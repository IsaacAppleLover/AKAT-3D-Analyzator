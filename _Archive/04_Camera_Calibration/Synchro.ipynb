{
 "cells": [
  {
   "cell_type": "code",
   "execution_count": 1,
   "metadata": {},
   "outputs": [
    {
     "name": "stdout",
     "output_type": "stream",
     "text": [
      "Camera init failed\n"
     ]
    }
   ],
   "source": [
    "from pyueye import ueye\n",
    "import numpy as np\n",
    "import cv2\n",
    "import sys\n",
    "\n",
    "\n",
    "hCam = ueye.HIDS(0)        # 0: first available camera;  1-254: The camera with the specified camera ID\n",
    "\n",
    "sInfo = ueye.SENSORINFO()\n",
    "cInfo = ueye.CAMINFO()\n",
    "pcImageMemory = ueye.c_mem_p()\n",
    "MemID = ueye.int()\n",
    "rectAOI = ueye.IS_RECT()\n",
    "pitch = ueye.INT()\n",
    "nBitsPerPixel = ueye.INT(24)    #24: bits per pixel for color mode; take 8 bits per pixel for monochrome\n",
    "channels = 3                    #3: channels for color mode(RGB); take 1 channel for monochrome\n",
    "m_nColorMode = ueye.INT()\t\t# Y8/RGB16/RGB24/REG32\n",
    "bytes_per_pixel = int(nBitsPerPixel / 8)\n",
    "\n",
    "# Starts the driver and establishes the connection to the camera\n",
    "ret = ueye.is_InitCamera(hCam, None)\n",
    "if ret != ueye.IS_SUCCESS:\n",
    "    print(\"Camera init failed\")\n",
    "    pass\n",
    "\n",
    "height, width = 480, 640\n",
    "\n",
    "nRet = ueye.is_SetDisplayMode(hCam, ueye.IS_SET_DM_DIB)\n",
    "\n",
    "# Set the desired color mode\n",
    "if int.from_bytes(sInfo.nColorMode.value, byteorder='big') == ueye.IS_COLORMODE_BAYER:\n",
    "    # setup the color depth to the current windows setting\n",
    "    ueye.is_GetColorDepth(hCam, nBitsPerPixel, m_nColorMode)\n",
    "    bytes_per_pixel = int(nBitsPerPixel / 8)\n",
    "    print(\"IS_COLORMODE_BAYER: \", )\n",
    "    print(\"\\tm_nColorMode: \\t\\t\", m_nColorMode)\n",
    "    print(\"\\tnBitsPerPixel: \\t\\t\", nBitsPerPixel)\n",
    "    print(\"\\tbytes_per_pixel: \\t\\t\", bytes_per_pixel)\n",
    "    print()\n",
    "\n",
    "# Set the Image Format\n",
    "#ueye.is_SetImageSize(hCam, width, height)\n",
    "\n",
    "# Allocate memory for the image\n",
    "#mem_ptr = ueye.c_mem_p()\n",
    "\n",
    "# Set the image memory for the allocated memory\n",
    "#ueye.is_AllocImageMem(hCam, width, height, 24, mem_ptr, None)\n",
    "\n",
    "# Set the image memory active\n",
    "#ueye.is_SetImageMem(hCam, mem_ptr, None)\n",
    "\n",
    "# Continuous capture to memory\n",
    "#ueye.is_CaptureVideo(hCam, ueye.IS_WAIT)\n",
    "\n",
    "\n"
   ]
  },
  {
   "cell_type": "code",
   "execution_count": null,
   "metadata": {},
   "outputs": [],
   "source": [
    "while(nRet == ueye.IS_SUCCESS):\n",
    "    nRet = ueye.is_FreezeVideo(hCam, ueye.IS_WAIT)\n",
    "    if nRet == ueye.IS_SUCCESS:\n",
    "        # In order to work with the buffer data we need to know the bits per pixel\n",
    "        nBitsPerPixel = ueye.INT()\n",
    "        ueye.is_GetColorDepth(hCam, nBitsPerPixel, ueye.INT())\n",
    "        nBitsPerPixel = nBitsPerPixel.value\n",
    "\n",
    "        # Get the image data as numpy array\n",
    "        array = ueye.get_data(hCam, nBitsPerPixel, 0, 0, 0, 0, copy=False)\n",
    "\n",
    "        bytes_per_pixel = int(nBitsPerPixel / 8)\n",
    "\n",
    "        # Transform the image data form the buffer\n",
    "        image = np.reshape(array, (height, width, bytes_per_pixel))\n",
    "\n",
    "        # Display the image\n",
    "        cv2.imshow(\"SimpleLive_Python_uEye_OpenCV\", image)\n",
    "\n",
    "        # Press q if you want to end the loop\n",
    "        if cv2.waitKey(1) & 0xFF == ord('q'):\n",
    "            break\n",
    "    else:\n",
    "        print(\"Error\")\n",
    "        break"
   ]
  },
  {
   "cell_type": "code",
   "execution_count": 10,
   "metadata": {},
   "outputs": [
    {
     "name": "stdout",
     "output_type": "stream",
     "text": [
      "Camera model:\t\t \n",
      "Camera serial no.:\t \n"
     ]
    }
   ],
   "source": [
    "sInfo = ueye.SENSORINFO()\n",
    "cInfo = ueye.CAMINFO()\n",
    "print(\"Camera model:\\t\\t\", sInfo.strSensorName.decode('utf-8'))\n",
    "print(\"Camera serial no.:\\t\", cInfo.SerNo.decode('utf-8'))\n"
   ]
  },
  {
   "cell_type": "code",
   "execution_count": 14,
   "metadata": {},
   "outputs": [
    {
     "name": "stdout",
     "output_type": "stream",
     "text": [
      "is_CaptureVideo ERROR\n"
     ]
    }
   ],
   "source": [
    "nRet = ueye.is_CaptureVideo(hCam, ueye.IS_DONT_WAIT)\n",
    "if nRet != ueye.IS_SUCCESS:\n",
    "    print(\"is_CaptureVideo ERROR\")"
   ]
  },
  {
   "cell_type": "code",
   "execution_count": 27,
   "metadata": {},
   "outputs": [
    {
     "data": {
      "text/plain": [
       "1"
      ]
     },
     "execution_count": 27,
     "metadata": {},
     "output_type": "execute_result"
    }
   ],
   "source": [
    "ueye.is_ExitCamera(hCam)"
   ]
  }
 ],
 "metadata": {
  "kernelspec": {
   "display_name": "Python 3",
   "language": "python",
   "name": "python3"
  },
  "language_info": {
   "codemirror_mode": {
    "name": "ipython",
    "version": 3
   },
   "file_extension": ".py",
   "mimetype": "text/x-python",
   "name": "python",
   "nbconvert_exporter": "python",
   "pygments_lexer": "ipython3",
   "version": "3.11.3"
  }
 },
 "nbformat": 4,
 "nbformat_minor": 2
}
