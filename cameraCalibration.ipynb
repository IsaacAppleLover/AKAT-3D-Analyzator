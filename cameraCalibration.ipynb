{
 "cells": [
  {
   "cell_type": "markdown",
   "metadata": {},
   "source": [
    "# Camera calibration"
   ]
  },
  {
   "cell_type": "markdown",
   "metadata": {},
   "source": [
    "## Setup for intrinsic calibration"
   ]
  },
  {
   "cell_type": "code",
   "execution_count": 2,
   "metadata": {},
   "outputs": [
    {
     "name": "stdout",
     "output_type": "stream",
     "text": [
      "[[0. 0. 0.]\n",
      " [1. 0. 0.]\n",
      " [2. 0. 0.]\n",
      " [3. 0. 0.]\n",
      " [4. 0. 0.]\n",
      " [5. 0. 0.]\n",
      " [6. 0. 0.]\n",
      " [0. 1. 0.]\n",
      " [1. 1. 0.]\n",
      " [2. 1. 0.]\n",
      " [3. 1. 0.]\n",
      " [4. 1. 0.]\n",
      " [5. 1. 0.]\n",
      " [6. 1. 0.]\n",
      " [0. 2. 0.]\n",
      " [1. 2. 0.]\n",
      " [2. 2. 0.]\n",
      " [3. 2. 0.]\n",
      " [4. 2. 0.]\n",
      " [5. 2. 0.]\n",
      " [6. 2. 0.]\n",
      " [0. 3. 0.]\n",
      " [1. 3. 0.]\n",
      " [2. 3. 0.]\n",
      " [3. 3. 0.]\n",
      " [4. 3. 0.]\n",
      " [5. 3. 0.]\n",
      " [6. 3. 0.]\n",
      " [0. 4. 0.]\n",
      " [1. 4. 0.]\n",
      " [2. 4. 0.]\n",
      " [3. 4. 0.]\n",
      " [4. 4. 0.]\n",
      " [5. 4. 0.]\n",
      " [6. 4. 0.]\n",
      " [0. 5. 0.]\n",
      " [1. 5. 0.]\n",
      " [2. 5. 0.]\n",
      " [3. 5. 0.]\n",
      " [4. 5. 0.]\n",
      " [5. 5. 0.]\n",
      " [6. 5. 0.]]\n"
     ]
    },
    {
     "ename": "error",
     "evalue": "OpenCV(4.7.0) D:\\a\\opencv-python\\opencv-python\\opencv\\modules\\imgproc\\src\\color.cpp:182: error: (-215:Assertion failed) !_src.empty() in function 'cv::cvtColor'\n",
     "output_type": "error",
     "traceback": [
      "\u001b[1;31m---------------------------------------------------------------------------\u001b[0m",
      "\u001b[1;31merror\u001b[0m                                     Traceback (most recent call last)",
      "Cell \u001b[1;32mIn[2], line 23\u001b[0m\n\u001b[0;32m     20\u001b[0m image \u001b[38;5;241m=\u001b[39m cv2\u001b[38;5;241m.\u001b[39mimread(image_path)\n\u001b[0;32m     22\u001b[0m \u001b[38;5;66;03m# Convert the image to grayscale\u001b[39;00m\n\u001b[1;32m---> 23\u001b[0m gray \u001b[38;5;241m=\u001b[39m \u001b[43mcv2\u001b[49m\u001b[38;5;241;43m.\u001b[39;49m\u001b[43mcvtColor\u001b[49m\u001b[43m(\u001b[49m\u001b[43mimage\u001b[49m\u001b[43m,\u001b[49m\u001b[43m \u001b[49m\u001b[43mcv2\u001b[49m\u001b[38;5;241;43m.\u001b[39;49m\u001b[43mCOLOR_BGR2GRAY\u001b[49m\u001b[43m)\u001b[49m\n\u001b[0;32m     25\u001b[0m \u001b[38;5;66;03m# Find the chessboard corners\u001b[39;00m\n\u001b[0;32m     26\u001b[0m ret, corners \u001b[38;5;241m=\u001b[39m cv2\u001b[38;5;241m.\u001b[39mfindChessboardCorners(gray, chessboard_size, \u001b[38;5;28;01mNone\u001b[39;00m)\n",
      "\u001b[1;31merror\u001b[0m: OpenCV(4.7.0) D:\\a\\opencv-python\\opencv-python\\opencv\\modules\\imgproc\\src\\color.cpp:182: error: (-215:Assertion failed) !_src.empty() in function 'cv::cvtColor'\n"
     ]
    }
   ],
   "source": [
    "import cv2\n",
    "import numpy as np\n",
    "\n",
    "# Define the chessboard size\n",
    "chessboard_size = (7, 6)\n",
    "\n",
    "# Prepare object points, like (0,0,0), (1,0,0), ..., (8,5,0)\n",
    "object_points = np.zeros((chessboard_size[0] * chessboard_size[1], 3), np.float32)\n",
    "object_points[:, :2] = np.mgrid[0:chessboard_size[0], 0:chessboard_size[1]].T.reshape(-1, 2)\n",
    "#print(object_points)\n",
    "\n",
    "# Arrays to store object points and image points from all the images\n",
    "object_points_list = []  # 3D points in real world space\n",
    "image_points_list = []  # 2D points in image plane\n",
    "\n",
    "# Load the images\n",
    "image_paths = ['image1.jpg', 'image2.jpg', 'image3.jpg']  # We need 10 images\n",
    "for image_path in image_paths:\n",
    "    # Read the image\n",
    "    image = cv2.imread(image_path)\n",
    "    \n",
    "    # Convert the image to grayscale\n",
    "    gray = cv2.cvtColor(image, cv2.COLOR_BGR2GRAY)\n",
    "    \n",
    "    # Find the chessboard corners\n",
    "    ret, corners = cv2.findChessboardCorners(gray, chessboard_size, None)\n",
    "    \n",
    "    # If corners are found, add object points and image points\n",
    "    if ret == True:\n",
    "        object_points_list.append(object_points)\n",
    "\n",
    "        # cv.cornerSubPix is used to refine the corner locations\n",
    "        corners2 = cv2.cornerSubPix(gray, corners, (11, 11), (-1, -1), criteria=(cv2.TERM_CRITERIA_EPS + cv2.TERM_CRITERIA_MAX_ITER, 30, 0.001))\n",
    "        image_points_list.append(corners2)\n",
    "        \n",
    "        # Draw and display the corners\n",
    "        cv2.drawChessboardCorners(image, chessboard_size, corners2, ret)\n",
    "        cv2.imshow('Chessboard Corners', image)\n",
    "        cv2.waitKey(0)\n",
    "\n",
    "\n"
   ]
  },
  {
   "cell_type": "markdown",
   "metadata": {},
   "source": [
    "### Calibration"
   ]
  },
  {
   "cell_type": "code",
   "execution_count": null,
   "metadata": {},
   "outputs": [],
   "source": [
    "# Calibrate the camera,  function returns the camera matrix, distortion coefficients, rotation and translation vectors etc.\n",
    "ret, camera_matrix, distortion_coeffs, rvecs, tvecs = cv2.calibrateCamera(\n",
    "    object_points_list, image_points_list, gray.shape[::-1], None, None)\n",
    "\n",
    "# Print the camera matrix and distortion coefficients\n",
    "print(\"Camera Matrix:\")\n",
    "print(camera_matrix)\n",
    "print(\"\\nDistortion Coefficients:\")\n",
    "print(distortion_coeffs)\n",
    "print(\"\\nRotation Vectors:\")\n",
    "print(rvecs)\n",
    "print(\"\\nTranslation Vectors:\")\n",
    "print(tvecs)\n"
   ]
  },
  {
   "cell_type": "markdown",
   "metadata": {},
   "source": [
    "### Undistortion"
   ]
  },
  {
   "cell_type": "code",
   "execution_count": null,
   "metadata": {},
   "outputs": [],
   "source": [
    "import cv2\n",
    "import numpy as np\n",
    "\n",
    "# Load the distorted image and refine camera matrix\n",
    "distorted_image = cv2.imread('distorted_image.jpg')\n",
    "h, w = distorted_image.shape[:2]\n",
    "newcamera_matrix, roi = cv2.getOptimalNewCameraMatrix(camera_matrix, distortion_coeffs, (w, h), 1, (w, h))\n",
    "\n",
    "\n",
    "\n",
    "# Undistort the image\n",
    "undistorted_image = cv2.undistort(distorted_image, camera_matrix, distortion_coeffs, None, newcamera_matrix)\n",
    "\n",
    "# Crop the image\n",
    "x, y, w, h = roi\n",
    "undistorted_image = undistorted_image[y:y+h, x:x+w]\n",
    "cv2.imwrite('calibresult.png', undistorted_image)\n",
    "\n",
    "# Display the undistorted image\n",
    "cv2.imshow('Undistorted Image', undistorted_image)\n",
    "cv2.waitKey(0)\n",
    "cv2.destroyAllWindows()\n"
   ]
  },
  {
   "cell_type": "code",
   "execution_count": null,
   "metadata": {},
   "outputs": [],
   "source": [
    "# Store matrix, distortion coefficients, rotation and translation vectors\n",
    "np.savez('calibration_data.npz', camera_matrix=camera_matrix, distortion_coeffs=distortion_coeffs, rvecs=rvecs, tvecs=tvecs)"
   ]
  },
  {
   "cell_type": "markdown",
   "metadata": {},
   "source": [
    "### Re-projection error"
   ]
  },
  {
   "cell_type": "code",
   "execution_count": null,
   "metadata": {},
   "outputs": [],
   "source": [
    "mean_error = 0\n",
    "for i in range(len(object_points_list)):\n",
    "    image_points, _ = cv2.projectPoints(object_points_list[i], rvecs[i], tvecs[i], camera_matrix, distortion_coeffs)\n",
    "    error = cv2.norm(image_points_list[i], image_points, cv2.NORM_L2) / len(image_points)\n",
    "    mean_error += error\n",
    "\n",
    "print(\"Total error: \", mean_error / len(object_points_list))"
   ]
  },
  {
   "cell_type": "code",
   "execution_count": null,
   "metadata": {},
   "outputs": [],
   "source": [
    "# für die rekonstruktion der 3d Weltkoordinaten (aka die analyse der strukturlichter) sind die rvecs und tvecs notwendig "
   ]
  }
 ],
 "metadata": {
  "kernelspec": {
   "display_name": "Python 3",
   "language": "python",
   "name": "python3"
  },
  "language_info": {
   "codemirror_mode": {
    "name": "ipython",
    "version": 3
   },
   "file_extension": ".py",
   "mimetype": "text/x-python",
   "name": "python",
   "nbconvert_exporter": "python",
   "pygments_lexer": "ipython3",
   "version": "3.11.3"
  }
 },
 "nbformat": 4,
 "nbformat_minor": 2
}
