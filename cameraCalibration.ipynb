{
 "cells": [
  {
   "cell_type": "markdown",
   "metadata": {},
   "source": [
    "# Camera calibration"
   ]
  },
  {
   "cell_type": "markdown",
   "metadata": {},
   "source": [
    "## Setup for intrinsic calibration"
   ]
  },
  {
   "cell_type": "code",
   "execution_count": null,
   "metadata": {},
   "outputs": [],
   "source": [
    "import cv2\n",
    "import numpy as np\n",
    "\n",
    "# Define the chessboard size\n",
    "chessboard_size = (8, 8)\n",
    "\n",
    "# Prepare object points, like (0,0,0), (1,0,0), ..., (8,5,0)\n",
    "object_points = np.zeros((chessboard_size[0] * chessboard_size[1], 3), np.float32)\n",
    "object_points[:, :2] = np.mgrid[0:chessboard_size[0], 0:chessboard_size[1]].T.reshape(-1, 2)\n",
    "\n",
    "# Arrays to store object points and image points from all the images\n",
    "object_points_list = []  # 3D points in real world space\n",
    "image_points_list = []  # 2D points in image plane\n",
    "\n",
    "# Load the images\n",
    "image_paths = ['image1.jpg', 'image2.jpg', 'image3.jpg']  # We need 10 images\n",
    "for image_path in image_paths:\n",
    "    # Read the image\n",
    "    image = cv2.imread(image_path)\n",
    "    \n",
    "    # Convert the image to grayscale\n",
    "    gray = cv2.cvtColor(image, cv2.COLOR_BGR2GRAY)\n",
    "    \n",
    "    # Find the chessboard corners\n",
    "    ret, corners = cv2.findChessboardCorners(gray, chessboard_size, None)\n",
    "    \n",
    "    # If corners are found, add object points and image points\n",
    "    if ret == True:\n",
    "        object_points_list.append(object_points)\n",
    "\n",
    "        # cv.cornerSubPix is used to refine the corner locations\n",
    "        corners2 = cv2.cornerSubPix(gray, corners, (11, 11), (-1, -1), criteria=(cv2.TERM_CRITERIA_EPS + cv2.TERM_CRITERIA_MAX_ITER, 30, 0.001))\n",
    "        image_points_list.append(corners2)\n",
    "        \n",
    "        # Draw and display the corners\n",
    "        cv2.drawChessboardCorners(image, chessboard_size, corners2, ret)\n",
    "        cv2.imshow('Chessboard Corners', image)\n",
    "        cv2.waitKey(0)\n",
    "\n",
    "\n"
   ]
  },
  {
   "cell_type": "markdown",
   "metadata": {},
   "source": [
    "### Calibration"
   ]
  },
  {
   "cell_type": "code",
   "execution_count": null,
   "metadata": {},
   "outputs": [],
   "source": [
    "# Calibrate the camera,  function returns the camera matrix, distortion coefficients, rotation and translation vectors etc.\n",
    "ret, camera_matrix, distortion_coeffs, rvecs, tvecs = cv2.calibrateCamera(\n",
    "    object_points_list, image_points_list, gray.shape[::-1], None, None)\n",
    "\n",
    "# Print the camera matrix and distortion coefficients\n",
    "print(\"Camera Matrix:\")\n",
    "print(camera_matrix)\n",
    "print(\"\\nDistortion Coefficients:\")\n",
    "print(distortion_coeffs)"
   ]
  },
  {
   "cell_type": "markdown",
   "metadata": {},
   "source": [
    "### Undistortion"
   ]
  },
  {
   "cell_type": "code",
   "execution_count": null,
   "metadata": {},
   "outputs": [],
   "source": [
    "import cv2\n",
    "import numpy as np\n",
    "\n",
    "# Load the distorted image and refine camera matrix\n",
    "distorted_image = cv2.imread('distorted_image.jpg')\n",
    "h, w = distorted_image.shape[:2]\n",
    "newcamera_matrix, roi = cv2.getOptimalNewCameraMatrix(camera_matrix, distortion_coeffs, (w, h), 1, (w, h))\n",
    "\n",
    "\n",
    "\n",
    "# Undistort the image\n",
    "undistorted_image = cv2.undistort(distorted_image, camera_matrix, distortion_coeffs, None, newcamera_matrix)\n",
    "\n",
    "# Crop the image\n",
    "x, y, w, h = roi\n",
    "undistorted_image = undistorted_image[y:y+h, x:x+w]\n",
    "cv2.imwrite('calibresult.png', undistorted_image)\n",
    "\n",
    "# Display the undistorted image\n",
    "cv2.imshow('Undistorted Image', undistorted_image)\n",
    "cv2.waitKey(0)\n",
    "cv2.destroyAllWindows()\n"
   ]
  },
  {
   "cell_type": "code",
   "execution_count": null,
   "metadata": {},
   "outputs": [],
   "source": [
    "# Store matrix and distortion coefficients\n",
    "np.savez('calibration_data.npz', camera_matrix=camera_matrix, distortion_coeffs=distortion_coeffs)"
   ]
  },
  {
   "cell_type": "markdown",
   "metadata": {},
   "source": [
    "### Re-projection error"
   ]
  },
  {
   "cell_type": "code",
   "execution_count": null,
   "metadata": {},
   "outputs": [],
   "source": [
    "mean_error = 0\n",
    "for i in range(len(object_points_list)):\n",
    "    image_points, _ = cv2.projectPoints(object_points_list[i], rvecs[i], tvecs[i], camera_matrix, distortion_coeffs)\n",
    "    error = cv2.norm(image_points_list[i], image_points, cv2.NORM_L2) / len(image_points)\n",
    "    mean_error += error\n",
    "\n",
    "print(\"Total error: \", mean_error / len(object_points_list))"
   ]
  },
  {
   "cell_type": "markdown",
   "metadata": {},
   "source": [
    "## Extrinsic calibration"
   ]
  },
  {
   "cell_type": "code",
   "execution_count": null,
   "metadata": {},
   "outputs": [],
   "source": [
    "import cv2\n",
    "import numpy as np\n",
    "\n",
    "# Define the object points in 3D space\n",
    "object_points = np.array([[0, 0, 0], [1, 0, 0], [0, 1, 0], [1, 1, 0]], dtype=np.float32)\n",
    "\n",
    "# Define the corresponding image points in 2D space\n",
    "image_points = np.array([[10, 20], [30, 40], [50, 60], [70, 80]], dtype=np.float32)\n",
    "\n",
    "# Load camera matrix and distortion coefficients\n",
    "calibration_data = np.load('calibration_data.npz')\n",
    "camera_matrix = calibration_data['camera_matrix']\n",
    "distortion_coeffs = calibration_data['distortion_coeffs']\n",
    "\n",
    "# Find the extrinsic parameters\n",
    "retval, rvec, tvec = cv2.solvePnP(object_points, image_points, camera_matrix, distortion_coeffs)\n",
    "\n",
    "# Print the rotation vector and translation vector\n",
    "print(\"Rotation Vector:\")\n",
    "print(rvec)\n",
    "print(\"\\nTranslation Vector:\")\n",
    "print(tvec)\n"
   ]
  },
  {
   "cell_type": "code",
   "execution_count": null,
   "metadata": {},
   "outputs": [],
   "source": [
    "import matplotlib.pyplot as plt\n",
    "from mpl_toolkits.mplot3d import Axes3D\n",
    "\n",
    "# Define the rotation vector and translation vector\n",
    "rvec = [...]  # Replace [...] with your actual rotation vector\n",
    "tvec = [...]  # Replace [...] with your actual translation vector\n",
    "\n",
    "# Create a 3D plot\n",
    "fig = plt.figure()\n",
    "ax = fig.add_subplot(111, projection='3d')\n",
    "\n",
    "# Plot the camera position\n",
    "ax.scatter(0, 0, 0, c='r', marker='o')  # Assuming the camera is at the origin\n",
    "\n",
    "# Plot the object points\n",
    "object_points = [...]  # Replace [...] with your actual object points\n",
    "ax.scatter(object_points[:, 0], object_points[:, 1], object_points[:, 2], c='b', marker='o')\n",
    "\n",
    "# Plot the camera frame\n",
    "camera_frame_length = 0.1  # Length of the camera frame axes\n",
    "camera_frame_endpoints = [\n",
    "    (0, 0, 0),\n",
    "    (camera_frame_length, 0, 0),\n",
    "    (0, camera_frame_length, 0),\n",
    "    (0, 0, camera_frame_length)\n",
    "]\n",
    "for i, j in [(0, 1), (0, 2), (0, 3)]:\n",
    "    ax.plot([camera_frame_endpoints[i][0], camera_frame_endpoints[j][0]],\n",
    "            [camera_frame_endpoints[i][1], camera_frame_endpoints[j][1]],\n",
    "            [camera_frame_endpoints[i][2], camera_frame_endpoints[j][2]], c='r')\n",
    "\n",
    "# Apply the rotation and translation to the object points\n",
    "rotated_object_points = [...]  # Replace [...] with your actual rotated object points\n",
    "\n",
    "# Plot the rotated object points\n",
    "ax.scatter(rotated_object_points[:, 0], rotated_object_points[:, 1], rotated_object_points[:, 2], c='g', marker='o')\n",
    "\n",
    "# Set the plot limits and labels\n",
    "ax.set_xlim([-1, 1])\n",
    "ax.set_ylim([-1, 1])\n",
    "ax.set_zlim([-1, 1])\n",
    "ax.set_xlabel('X')\n",
    "ax.set_ylabel('Y')\n",
    "ax.set_zlabel('Z')\n",
    "\n",
    "# Show the plot\n",
    "plt.show()\n"
   ]
  },
  {
   "cell_type": "code",
   "execution_count": null,
   "metadata": {},
   "outputs": [],
   "source": [
    "import matplotlib.pyplot as plt\n",
    "from mpl_toolkits.mplot3d import Axes3D\n",
    "\n",
    "# Create a 3D plot\n",
    "fig = plt.figure()\n",
    "ax = fig.add_subplot(111, projection='3d')\n",
    "\n",
    "# Plot your data points and customize the plot\n",
    "\n",
    "# Save the plot as a PNG image file\n",
    "plt.savefig('plot.png')\n"
   ]
  }
 ],
 "metadata": {
  "kernelspec": {
   "display_name": "Python 3",
   "language": "python",
   "name": "python3"
  },
  "language_info": {
   "codemirror_mode": {
    "name": "ipython",
    "version": 3
   },
   "file_extension": ".py",
   "mimetype": "text/x-python",
   "name": "python",
   "nbconvert_exporter": "python",
   "pygments_lexer": "ipython3",
   "version": "3.11.3"
  }
 },
 "nbformat": 4,
 "nbformat_minor": 2
}
